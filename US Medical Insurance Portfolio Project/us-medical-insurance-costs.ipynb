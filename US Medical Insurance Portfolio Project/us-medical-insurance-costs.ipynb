{
 "cells": [
  {
   "cell_type": "code",
   "execution_count": 109,
   "metadata": {},
   "outputs": [],
   "source": [
    "# U.S. Medical Insurance Costs\n",
    "\n",
    "# SCOPE:\n",
    "# 1. Average age of patients in dataset DONE\n",
    "# 2. Where most patients are from DONE\n",
    "# 3. Percentage of female patients DONE\n",
    "# 4. Cost difference between smokers and non-smokers DONE\n",
    "# 5. Average age for people with at least one child DONE"
   ]
  },
  {
   "cell_type": "code",
   "execution_count": 110,
   "metadata": {
    "jupyter": {
     "source_hidden": true
    }
   },
   "outputs": [],
   "source": [
    "# import library\n",
    "import csv"
   ]
  },
  {
   "cell_type": "code",
   "execution_count": 111,
   "metadata": {
    "jupyter": {
     "source_hidden": true
    }
   },
   "outputs": [],
   "source": [
    "# create empty lists\n",
    "ages = []\n",
    "sexes = []\n",
    "bmi = []\n",
    "children = []\n",
    "smokers = []\n",
    "regions = []\n",
    "charges = []"
   ]
  },
  {
   "cell_type": "code",
   "execution_count": 112,
   "metadata": {
    "jupyter": {
     "source_hidden": true
    }
   },
   "outputs": [],
   "source": [
    "# open & read file, sort column data into lists\n",
    "with open ('insurance.csv') as insurance_file:\n",
    "    content = csv.DictReader(insurance_file)\n",
    "    for column in content:\n",
    "        ages.append(column['age'])\n",
    "        sexes.append(column['sex'])\n",
    "        bmi.append(column['bmi'])\n",
    "        children.append(column['children'])\n",
    "        smokers.append(column['smoker'])\n",
    "        regions.append(column['region'])\n",
    "        charges.append(column['charges'])"
   ]
  },
  {
   "cell_type": "code",
   "execution_count": 113,
   "metadata": {
    "editable": true,
    "jupyter": {
     "source_hidden": true
    },
    "slideshow": {
     "slide_type": ""
    },
    "tags": []
   },
   "outputs": [],
   "source": [
    "# integer average calculator function\n",
    "def int_average_calculator(list):\n",
    "    total = 0\n",
    "    for item in list:\n",
    "        total += int(item)\n",
    "    average = total / len(list)\n",
    "    return round(average, 1)"
   ]
  },
  {
   "cell_type": "code",
   "execution_count": 114,
   "metadata": {
    "jupyter": {
     "source_hidden": true
    }
   },
   "outputs": [
    {
     "name": "stdout",
     "output_type": "stream",
     "text": [
      "The average age of a patient in this dataset is 39.2 years old.\n"
     ]
    }
   ],
   "source": [
    "# calculate Scope 1\n",
    "print('The average age of a patient in this dataset is ' + str(int_average_calculator(ages)) + ' years old.')"
   ]
  },
  {
   "cell_type": "code",
   "execution_count": 115,
   "metadata": {
    "jupyter": {
     "source_hidden": true
    }
   },
   "outputs": [],
   "source": [
    "# location finder & counter function\n",
    "def most_common_location(list):\n",
    "    locations = {}\n",
    "    max_value = 0\n",
    "    most_common = None\n",
    "    for item in list:\n",
    "        if item in locations:\n",
    "            locations[item] += 1\n",
    "        else:\n",
    "            locations[item] = 1\n",
    "    for location, count in locations.items():\n",
    "        if count > max_value:\n",
    "            max_value = count\n",
    "            most_common = location\n",
    "    print('Most of the patients come from ' + most_common + ', with ' + str(max_value) + ' coming from there.')\n"
   ]
  },
  {
   "cell_type": "code",
   "execution_count": 116,
   "metadata": {
    "jupyter": {
     "source_hidden": true
    }
   },
   "outputs": [
    {
     "name": "stdout",
     "output_type": "stream",
     "text": [
      "Most of the patients come from southeast, with 364 coming from there.\n"
     ]
    }
   ],
   "source": [
    "# determine Scope 2\n",
    "most_common_location(regions)"
   ]
  },
  {
   "cell_type": "code",
   "execution_count": 117,
   "metadata": {
    "jupyter": {
     "source_hidden": true
    }
   },
   "outputs": [],
   "source": [
    "# gender percentage function\n",
    "def gender_percentages(list):\n",
    "    total_patients = len(sexes)\n",
    "    total_females = 0\n",
    "    total_males = 0\n",
    "    for item in list:\n",
    "        if item == 'male':\n",
    "            total_males += 1\n",
    "        elif item == 'female':\n",
    "            total_females += 1\n",
    "    percentage_female = (total_females/total_patients) * 100\n",
    "    percentage_male = (total_males/total_patients) * 100\n",
    "    print('Among the patients, a total of ' + str(round(percentage_female, 1)) + '% are female.')\n",
    "    "
   ]
  },
  {
   "cell_type": "code",
   "execution_count": 118,
   "metadata": {
    "jupyter": {
     "source_hidden": true
    }
   },
   "outputs": [
    {
     "name": "stdout",
     "output_type": "stream",
     "text": [
      "Among the patients, a total of 49.5% are female.\n"
     ]
    }
   ],
   "source": [
    "# determine Scope 3\n",
    "gender_percentages(sexes)"
   ]
  },
  {
   "cell_type": "code",
   "execution_count": 119,
   "metadata": {
    "jupyter": {
     "source_hidden": true
    }
   },
   "outputs": [],
   "source": [
    "# function for finding cost difference of smokers / non smokers\n",
    "smoker_nonsmoker_costs = dict(zip(smokers, charges))\n",
    "def smoker_costs(dictionary):\n",
    "    smoker_count = 0\n",
    "    nonsmoker_count = 0\n",
    "    smoker_costs_total = 0\n",
    "    nonsmoker_costs_total = 0\n",
    "    for patient, value in dictionary.items():\n",
    "        if patient == 'yes':\n",
    "            smoker_count += 1\n",
    "            smoker_costs_total += float(dictionary[patient])\n",
    "        elif patient == 'no':\n",
    "            nonsmoker_count += 1\n",
    "            nonsmoker_costs_total += float(dictionary[patient])\n",
    "    average_smoker_cost = smoker_costs_total / smoker_count\n",
    "    average_nonsmoker_cost = nonsmoker_costs_total / nonsmoker_count\n",
    "    difference = average_smoker_cost - average_nonsmoker_cost\n",
    "    print('On average, a smoker\\'s medical costs are ' + str(round(difference, 1)) + ' higher than those of a non-smoker.')"
   ]
  },
  {
   "cell_type": "code",
   "execution_count": 120,
   "metadata": {
    "jupyter": {
     "source_hidden": true
    }
   },
   "outputs": [
    {
     "name": "stdout",
     "output_type": "stream",
     "text": [
      "On average, a smoker's medical costs are 27133.4 higher than those of a non-smoker.\n"
     ]
    }
   ],
   "source": [
    "# determine Scope 4\n",
    "smoker_costs(smoker_nonsmoker_costs)"
   ]
  },
  {
   "cell_type": "code",
   "execution_count": 121,
   "metadata": {
    "jupyter": {
     "source_hidden": true
    }
   },
   "outputs": [],
   "source": [
    "# function for average cost of child-affected people\n",
    "int_children = [int(num) for num in children]\n",
    "int_ages = [int(num) for num in ages]\n",
    "ages_and_children = dict(zip(int_children, int_ages))\n",
    "def childed_patient_age(dictionary):\n",
    "    total_ages = 0\n",
    "    total_patients = 0\n",
    "    for children, age in dictionary.items():\n",
    "        if children > 0:\n",
    "            total_patients += 1\n",
    "            total_ages += dictionary[children]\n",
    "    average_age = total_ages / total_patients\n",
    "    return average_age"
   ]
  },
  {
   "cell_type": "code",
   "execution_count": 122,
   "metadata": {
    "jupyter": {
     "source_hidden": true
    }
   },
   "outputs": [
    {
     "name": "stdout",
     "output_type": "stream",
     "text": [
      "The average age of a patient with at least one child is 47.2 years old.\n"
     ]
    }
   ],
   "source": [
    "# determine Scope 5\n",
    "print('The average age of a patient with at least one child is ' + str(childed_patient_age(ages_and_children)) + ' years old.')"
   ]
  }
 ],
 "metadata": {
  "kernelspec": {
   "display_name": "Python 3 (ipykernel)",
   "language": "python",
   "name": "python3"
  },
  "language_info": {
   "codemirror_mode": {
    "name": "ipython",
    "version": 3
   },
   "file_extension": ".py",
   "mimetype": "text/x-python",
   "name": "python",
   "nbconvert_exporter": "python",
   "pygments_lexer": "ipython3",
   "version": "3.11.5"
  }
 },
 "nbformat": 4,
 "nbformat_minor": 4
}
